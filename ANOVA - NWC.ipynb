{
 "cells": [
  {
   "cell_type": "markdown",
   "metadata": {},
   "source": [
    "# Data Analysis of NWC Teams in 2018 Season"
   ]
  },
  {
   "cell_type": "code",
   "execution_count": 8,
   "metadata": {},
   "outputs": [],
   "source": [
    "import pandas as pd"
   ]
  },
  {
   "cell_type": "code",
   "execution_count": 206,
   "metadata": {},
   "outputs": [],
   "source": [
    "wu18 = pd.read_csv(\"WU2018.csv\", na_values=\"-\")\n",
    "wu18.fillna(0, inplace=True)\n",
    "gf18 = pd.read_csv(\"GFU2018.csv\", na_values=\"-\")\n",
    "gf18.fillna(0, inplace=True)\n",
    "lc18 = pd.read_csv(\"LC2018.csv\", na_values=\"-\")\n",
    "lc18.fillna(0, inplace=True)\n",
    "whit18 = pd.read_csv(\"Whit2018.csv\", na_values=\"-\")\n",
    "whit18.fillna(0, inplace=True)\n",
    "ps18 = pd.read_csv(\"PSU2018.csv\", na_values=\"-\")\n",
    "ps18.fillna(0, inplace=True)\n",
    "#ps18.replace('0', -99999, inplace = True) #makes as an outlier"
   ]
  },
  {
   "cell_type": "code",
   "execution_count": 251,
   "metadata": {},
   "outputs": [],
   "source": [
    "df = pd.concat([wu18, gf18, lc18, whit18, ps18], keys=[\"wu18\", \"gf18\",\"lc18\", \"whit18\", \"ps18\"]) #combine both date frames\n",
    "df=df.rename(columns = {'GOFO':'GO/FO'})\n"
   ]
  },
  {
   "cell_type": "code",
   "execution_count": 212,
   "metadata": {},
   "outputs": [],
   "source": [
    "df['W/L'] = \"Loss\"\n",
    "df.loc[(df.W == 1), 'W/L'] = \"Win\""
   ]
  },
  {
   "cell_type": "code",
   "execution_count": 254,
   "metadata": {},
   "outputs": [],
   "source": [
    "dfs = [wu18,gf18,lc18,whit18,ps18]\n",
    "teams = [\"Willamette\", \"George Fox\", \"Lewis & Clark\", \"Whitworth\", \"Puget Sound\"]"
   ]
  },
  {
   "cell_type": "code",
   "execution_count": 150,
   "metadata": {},
   "outputs": [],
   "source": [
    "from matplotlib import pyplot as plt\n",
    "%matplotlib inline\n",
    "from sklearn import linear_model\n",
    "from sklearn.linear_model import LinearRegression"
   ]
  },
  {
   "cell_type": "markdown",
   "metadata": {},
   "source": [
    "#### GO/FO vs Wins for all teams"
   ]
  },
  {
   "cell_type": "code",
   "execution_count": 216,
   "metadata": {},
   "outputs": [
    {
     "name": "stdout",
     "output_type": "stream",
     "text": [
      "Willamette\n"
     ]
    },
    {
     "data": {
      "image/png": "[encoded data removed]",
      "text/plain": [
       "<Figure size 432x288 with 1 Axes>"
      ]
     },
     "metadata": {
      "needs_background": "light"
     },
     "output_type": "display_data"
    },
    {
     "name": "stdout",
     "output_type": "stream",
     "text": [
      "George Fox\n"
     ]
    },
    {
     "data": {
      "image/png": "[encoded data removed]",
      "text/plain": [
       "<Figure size 432x288 with 1 Axes>"
      ]
     },
     "metadata": {
      "needs_background": "light"
     },
     "output_type": "display_data"
    },
    {
     "name": "stdout",
     "output_type": "stream",
     "text": [
      "Lewis & Clark\n"
     ]
    },
    {
     "data": {
      "image/png": "[encoded data removed]",
      "text/plain": [
       "<Figure size 432x288 with 1 Axes>"
      ]
     },
     "metadata": {
      "needs_background": "light"
     },
     "output_type": "display_data"
    },
    {
     "name": "stdout",
     "output_type": "stream",
     "text": [
      "Whitworth\n"
     ]
    },
    {
     "data": {
      "image/png": "[encoded data removed]",
      "text/plain": [
       "<Figure size 432x288 with 1 Axes>"
      ]
     },
     "metadata": {
      "needs_background": "light"
     },
     "output_type": "display_data"
    },
    {
     "name": "stdout",
     "output_type": "stream",
     "text": [
      "Puget Sound\n"
     ]
    },
    {
     "data": {
      "image/png": "[encoded data removed]",
      "text/plain": [
       "<Figure size 432x288 with 1 Axes>"
      ]
     },
     "metadata": {
      "needs_background": "light"
     },
     "output_type": "display_data"
    }
   ],
   "source": [
    "n=0\n",
    "for i in dfs:\n",
    "    print(teams[n])\n",
    "    plt.xlabel(\"W/L\")\n",
    "    plt.ylabel(\"GO/FO\")   \n",
    "    plt.bar(i['W'],i['GO/FO'], align = \"center\", width=.1)\n",
    "    plt.show()\n",
    "    n+=1"
   ]
  },
  {
   "cell_type": "code",
   "execution_count": 204,
   "metadata": {},
   "outputs": [
    {
     "name": "stdout",
     "output_type": "stream",
     "text": [
      "Willamette\n",
      "   W     GO/FO\n",
      "0  0  1.106316\n",
      "1  1  0.946774 \n",
      "\n",
      "George Fox\n",
      "   W     GO/FO\n",
      "0  0  0.922632\n",
      "1  1  1.154400 \n",
      "\n",
      "Lewis & Clark\n",
      "     W     GO/FO\n",
      "0  0.0  1.047188\n",
      "1  1.0  0.777778 \n",
      "\n",
      "Whitworth\n",
      "     W     GO/FO\n",
      "0  0.0  1.049167\n",
      "1  1.0  1.047059 \n",
      "\n",
      "Puget Sound\n",
      "     W     GO/FO\n",
      "0  0.0  1.381154\n",
      "1  1.0  1.796471 \n",
      "\n"
     ]
    }
   ],
   "source": [
    "n=0\n",
    "for i in dfs:\n",
    "    print(teams[n])\n",
    "    print(i.groupby('W', as_index=False)['GO/FO'].mean(), \"\\n\")\n",
    "    n+=1"
   ]
  },
  {
   "cell_type": "markdown",
   "metadata": {},
   "source": [
    "#### SB vs Wins for all teams"
   ]
  },
  {
   "cell_type": "code",
   "execution_count": 222,
   "metadata": {},
   "outputs": [
    {
     "name": "stdout",
     "output_type": "stream",
     "text": [
      "Willamette\n",
      "   W        SB\n",
      "0  0  0.789474\n",
      "1  1  1.935484 \n",
      "\n",
      "George Fox\n",
      "   W        SB\n",
      "0  0  0.894737\n",
      "1  1  1.320000 \n",
      "\n",
      "Lewis & Clark\n",
      "     W        SB\n",
      "0  0.0  0.906250\n",
      "1  1.0  2.111111 \n",
      "\n",
      "Whitworth\n",
      "     W        SB\n",
      "0  0.0  0.875000\n",
      "1  1.0  1.117647 \n",
      "\n",
      "Puget Sound\n",
      "     W        SB\n",
      "0  0.0  0.653846\n",
      "1  1.0  1.235294 \n",
      "\n"
     ]
    }
   ],
   "source": [
    "n=0\n",
    "for i in dfs:\n",
    "    print(teams[n])\n",
    "    print(i.groupby('W', as_index=False)['SB'].mean(), \"\\n\")\n",
    "    n+=1"
   ]
  },
  {
   "cell_type": "code",
   "execution_count": 237,
   "metadata": {},
   "outputs": [
    {
     "data": {
      "image/png": "[encoded data removed]",
      "text/plain": [
       "<Figure size 432x288 with 1 Axes>"
      ]
     },
     "metadata": {
      "needs_background": "light"
     },
     "output_type": "display_data"
    },
    {
     "data": {
      "image/png": "[encoded data removed]",
      "text/plain": [
       "<Figure size 432x288 with 1 Axes>"
      ]
     },
     "metadata": {
      "needs_background": "light"
     },
     "output_type": "display_data"
    },
    {
     "data": {
      "image/png": "[encoded data removed]",
      "text/plain": [
       "<Figure size 432x288 with 1 Axes>"
      ]
     },
     "metadata": {
      "needs_background": "light"
     },
     "output_type": "display_data"
    },
    {
     "data": {
      "image/png": "[encoded data removed]",
      "text/plain": [
       "<Figure size 432x288 with 1 Axes>"
      ]
     },
     "metadata": {
      "needs_background": "light"
     },
     "output_type": "display_data"
    },
    {
     "data": {
      "image/png": "[encoded data removed]",
      "text/plain": [
       "<Figure size 432x288 with 1 Axes>"
      ]
     },
     "metadata": {
      "needs_background": "light"
     },
     "output_type": "display_data"
    }
   ],
   "source": [
    "n=0\n",
    "for i in dfs:\n",
    "    i.boxplot('SB', by=\"W\")\n",
    " "
   ]
  },
  {
   "cell_type": "markdown",
   "metadata": {},
   "source": [
    "## ANOVA\n",
    "#### Willamette University"
   ]
  },
  {
   "cell_type": "code",
   "execution_count": 227,
   "metadata": {},
   "outputs": [],
   "source": [
    "import statsmodels.api as sm\n",
    "from statsmodels.formula.api import ols"
   ]
  },
  {
   "cell_type": "markdown",
   "metadata": {},
   "source": [
    "#### Null = No difference in stolen bases between Wins and Losses\n",
    "#### df_between = 1, df_within = 48\n",
    "#### critical values = 4.034 ... If F > 4.034 reject null\n",
    "#### sum sqr within = 15.47, sum sqr between = 91.028\n",
    "#### F = 15.471138/(91.02886/48) = 8.158\n",
    "#### We reject the null hypothesis.  Wins and losses differed significantly on number of stolen bases"
   ]
  },
  {
   "cell_type": "code",
   "execution_count": 229,
   "metadata": {},
   "outputs": [
    {
     "name": "stdout",
     "output_type": "stream",
     "text": [
      "             sum_sq    df         F    PR(>F)\n",
      "W         15.471138   1.0  8.158013  0.006317\n",
      "Residual  91.028862  48.0       NaN       NaN\n"
     ]
    }
   ],
   "source": [
    "mod = ols('SB ~ W', data=wu18).fit()\n",
    "anova = sm.stats.anova_lm(mod,typ=2)\n",
    "print(anova)"
   ]
  },
  {
   "cell_type": "markdown",
   "metadata": {},
   "source": [
    "#### F = 5.856.  We reject the null hypothesis.  Wins and losses differed significantly on number of sacrafice hits"
   ]
  },
  {
   "cell_type": "code",
   "execution_count": 253,
   "metadata": {},
   "outputs": [
    {
     "name": "stdout",
     "output_type": "stream",
     "text": [
      "            sum_sq    df         F    PR(>F)\n",
      "W          4.74961   1.0  5.856126  0.019359\n",
      "Residual  38.93039  48.0       NaN       NaN\n"
     ]
    }
   ],
   "source": [
    "mod = ols('SH ~ W', data=wu18).fit()\n",
    "anova = sm.stats.anova_lm(mod,typ=2)\n",
    "print(anova)"
   ]
  },
  {
   "cell_type": "markdown",
   "metadata": {},
   "source": [
    "#### F = .00697.  We fail to reject the null.  There is not significant evidence that suggests strikeouts by Willamette's pitchers results in a difference in wins and losses."
   ]
  },
  {
   "cell_type": "code",
   "execution_count": 269,
   "metadata": {},
   "outputs": [
    {
     "name": "stdout",
     "output_type": "stream",
     "text": [
      "              sum_sq    df         F    PR(>F)\n",
      "W           0.054329   1.0  0.006974  0.933794\n",
      "Residual  373.945671  48.0       NaN       NaN\n"
     ]
    }
   ],
   "source": [
    "mod = ols('KA ~ W', data=wu18).fit()\n",
    "anova = sm.stats.anova_lm(mod,typ=2)\n",
    "print(anova)"
   ]
  },
  {
   "cell_type": "markdown",
   "metadata": {},
   "source": []
  }
 ],
 "metadata": {
  "kernelspec": {
   "display_name": "Python 3",
   "language": "python",
   "name": "python3"
  },
  "language_info": {
   "codemirror_mode": {
    "name": "ipython",
    "version": 3
   },
   "file_extension": ".py",
   "mimetype": "text/x-python",
   "name": "python",
   "nbconvert_exporter": "python",
   "pygments_lexer": "ipython3",
   "version": "3.6.7"
  }
 },
 "nbformat": 4,
 "nbformat_minor": 2
}
